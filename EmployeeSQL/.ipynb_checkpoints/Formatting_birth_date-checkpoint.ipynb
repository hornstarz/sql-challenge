{
 "cells": [
  {
   "cell_type": "code",
   "execution_count": 21,
   "id": "66de9fbe-a915-4149-a446-546a7e862cff",
   "metadata": {},
   "outputs": [
    {
     "name": "stdout",
     "output_type": "stream",
     "text": [
      "['7/25/1953' '11/18/1954' '1/30/1958' ... '8/6/1955' '2/13/1961'\n",
      " '9/7/1956']\n"
     ]
    }
   ],
   "source": [
    "import pandas as pd\n",
    "\n",
    "# Load the CSV file into a DataFrame\n",
    "df = pd.read_csv('employees.csv')\n",
    "\n",
    "print(df['birth_date'].unique())"
   ]
  },
  {
   "cell_type": "code",
   "execution_count": 23,
   "id": "72b31f79-dcc4-42cc-8096-c69266d2df9f",
   "metadata": {},
   "outputs": [],
   "source": [
    "# Convert the birth_date and hire_date columns from MM/DD/YY to YYYY-MM-DD\n",
    "df['birth_date'] = pd.to_datetime(df['birth_date'], errors='coerce').dt.strftime('%m-%d-%Y')"
   ]
  },
  {
   "cell_type": "code",
   "execution_count": 31,
   "id": "74900501-eb9f-46f6-8e44-bc0462a90679",
   "metadata": {},
   "outputs": [
    {
     "name": "stdout",
     "output_type": "stream",
     "text": [
      "['07-25-1953' '11-18-1954' '01-30-1958' ... '08-06-1955' '02-13-1961'\n",
      " '09-07-1956']\n"
     ]
    }
   ],
   "source": [
    "print(df['birth_date'].unique())"
   ]
  },
  {
   "cell_type": "code",
   "execution_count": 35,
   "id": "5a000ae3-0e57-4933-a01f-b7cb8e80b378",
   "metadata": {},
   "outputs": [],
   "source": [
    "# Save the updated DataFrame to a new CSV file\n",
    "df.to_csv('employees.csv', index=False)"
   ]
  },
  {
   "cell_type": "code",
   "execution_count": null,
   "id": "3fc6342a-639d-4857-9b3b-14656a60d595",
   "metadata": {},
   "outputs": [],
   "source": []
  }
 ],
 "metadata": {
  "kernelspec": {
   "display_name": "Python 3 (ipykernel)",
   "language": "python",
   "name": "python3"
  },
  "language_info": {
   "codemirror_mode": {
    "name": "ipython",
    "version": 3
   },
   "file_extension": ".py",
   "mimetype": "text/x-python",
   "name": "python",
   "nbconvert_exporter": "python",
   "pygments_lexer": "ipython3",
   "version": "3.12.4"
  }
 },
 "nbformat": 4,
 "nbformat_minor": 5
}
