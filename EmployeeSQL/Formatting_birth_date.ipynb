{
 "cells": [
  {
   "cell_type": "code",
   "execution_count": 40,
   "id": "66de9fbe-a915-4149-a446-546a7e862cff",
   "metadata": {},
   "outputs": [],
   "source": [
    "import pandas as pd\n",
    "\n",
    "# Load the CSV file into a DataFrame\n",
    "file_path = r\"C:\\Users\\zacha\\OneDrive\\Desktop\\sql-challenge\\data\\employees.csv\"\n",
    "df = pd.read_csv(file_path)\n"
   ]
  },
  {
   "cell_type": "code",
   "execution_count": 32,
   "id": "72b31f79-dcc4-42cc-8096-c69266d2df9f",
   "metadata": {},
   "outputs": [],
   "source": [
    "# Convert the birth_date and hire_date columns from MM/DD/YY to YYYY-MM-DD\n",
    "df['birth_date'] = pd.to_datetime(df['birth_date'], errors='coerce').dt.strftime('%m-%d-%Y')\n",
    "df['hire_date'] = pd.to_datetime(df['hire_date'], errors='coerce').dt.strftime('%m-%d-%Y')"
   ]
  },
  {
   "cell_type": "code",
   "execution_count": 33,
   "id": "74900501-eb9f-46f6-8e44-bc0462a90679",
   "metadata": {},
   "outputs": [
    {
     "name": "stdout",
     "output_type": "stream",
     "text": [
      "['04-28-1990' '09-07-1991' '03-21-1992' ... '01-01-2000' '09-12-1999'\n",
      " '11-18-1999']\n"
     ]
    }
   ],
   "source": [
    "print(df['hire_date'].unique())"
   ]
  },
  {
   "cell_type": "code",
   "execution_count": 38,
   "id": "5a000ae3-0e57-4933-a01f-b7cb8e80b378",
   "metadata": {},
   "outputs": [],
   "source": [
    "# Save the updated DataFrame to a new CSV file\n",
    "df.to_csv((file_path), index=False)"
   ]
  },
  {
   "cell_type": "code",
   "execution_count": 44,
   "id": "cc181a3e-8e19-4780-ab43-a1f74df0d849",
   "metadata": {},
   "outputs": [],
   "source": [
    "# Load the CSV file into a DataFrame\n",
    "file_path1 = r\"C:\\Users\\zacha\\OneDrive\\Desktop\\sql-challenge\\data\\dept_emp.csv\"\n",
    "df = pd.read_csv(file_path1)"
   ]
  },
  {
   "cell_type": "code",
   "execution_count": 46,
   "id": "3fc6342a-639d-4857-9b3b-14656a60d595",
   "metadata": {},
   "outputs": [],
   "source": [
    "# Swap the columns (assume columns 'A' and 'B' to be swapped)\n",
    "cols = df.columns.tolist()\n",
    "a_index, b_index = cols.index('emp_no'), cols.index('dept_no')\n",
    "cols[a_index], cols[b_index] = cols[b_index], cols[a_index]"
   ]
  },
  {
   "cell_type": "code",
   "execution_count": 48,
   "id": "90f9d6c3-c710-4133-9409-8df866887bb9",
   "metadata": {},
   "outputs": [],
   "source": [
    "# Reorder DataFrame based on the new column order\n",
    "df = df[cols]"
   ]
  },
  {
   "cell_type": "code",
   "execution_count": 50,
   "id": "ecfaaed3-741c-4fde-8d4e-77bf17cbe031",
   "metadata": {},
   "outputs": [],
   "source": [
    "# Save the updated DataFrame to a new CSV file\n",
    "df.to_csv((file_path1), index=False)"
   ]
  },
  {
   "cell_type": "code",
   "execution_count": null,
   "id": "24c6d5c3-9f79-40c6-9da7-46c314a4e6b3",
   "metadata": {},
   "outputs": [],
   "source": []
  }
 ],
 "metadata": {
  "kernelspec": {
   "display_name": "Python 3 (ipykernel)",
   "language": "python",
   "name": "python3"
  },
  "language_info": {
   "codemirror_mode": {
    "name": "ipython",
    "version": 3
   },
   "file_extension": ".py",
   "mimetype": "text/x-python",
   "name": "python",
   "nbconvert_exporter": "python",
   "pygments_lexer": "ipython3",
   "version": "3.12.3"
  }
 },
 "nbformat": 4,
 "nbformat_minor": 5
}
